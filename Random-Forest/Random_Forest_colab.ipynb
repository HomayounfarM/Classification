{
  "nbformat": 4,
  "nbformat_minor": 0,
  "metadata": {
    "colab": {
      "private_outputs": true,
      "provenance": [],
      "collapsed_sections": [],
      "authorship_tag": "ABX9TyNag5LvaeuIEj8mFoGE+Ust",
      "include_colab_link": true
    },
    "kernelspec": {
      "name": "python3",
      "display_name": "Python 3"
    },
    "language_info": {
      "name": "python"
    }
  },
  "cells": [
    {
      "cell_type": "markdown",
      "metadata": {
        "id": "view-in-github",
        "colab_type": "text"
      },
      "source": [
        "<a href=\"https://colab.research.google.com/github/HomayounfarM/Classification/blob/main/Random-Forest/Random_Forest_colab.ipynb\" target=\"_parent\"><img src=\"https://colab.research.google.com/assets/colab-badge.svg\" alt=\"Open In Colab\"/></a>"
      ]
    },
    {
      "cell_type": "markdown",
      "source": [
        "Random Forest Classification\n",
        "1.  Importing the required libraries and reading data"
      ],
      "metadata": {
        "id": "3kuNwzS15CJQ"
      }
    },
    {
      "cell_type": "code",
      "execution_count": null,
      "metadata": {
        "id": "wOMiflsr4Z1S"
      },
      "outputs": [],
      "source": [
        "import pandas as pd\n",
        "import numpy as np\n",
        "import matplotlib.pyplot as plt\n",
        "import seaborn as sns\n",
        "from sklearn.model_selection import train_test_split\n",
        "from sklearn.ensemble import RandomForestClassifier\n",
        "from sklearn.metrics import classification_report, confusion_matrix\n",
        "from sklearn.tree import plot_tree\n",
        "%matplotlib inline"
      ]
    },
    {
      "cell_type": "code",
      "source": [
        "import ssl\n",
        "ssl._create_default_https_context = ssl._create_unverified_context\n",
        "import pandas as pd\n",
        "url = \"https://raw.githubusercontent.com/HomayounfarM/Classification/main/Random-Forest/Data.csv\"\n",
        "dataset = pd.read_csv(url)"
      ],
      "metadata": {
        "id": "ypGvvkxE414O"
      },
      "execution_count": null,
      "outputs": []
    },
    {
      "cell_type": "markdown",
      "source": [
        "2. Divide the data into\"Attributes\" and \"labels\""
      ],
      "metadata": {
        "id": "HjgbOhHT5jog"
      }
    },
    {
      "cell_type": "code",
      "source": [
        "X = dataset.drop('disease',axis=1)\n",
        "\n",
        "y = dataset['disease']"
      ],
      "metadata": {
        "id": "7n34m2dB5i5k"
      },
      "execution_count": null,
      "outputs": []
    },
    {
      "cell_type": "markdown",
      "source": [
        "3. Splitting the data into train and test"
      ],
      "metadata": {
        "id": "85uyI_iC5pNP"
      }
    },
    {
      "cell_type": "code",
      "source": [
        "X_train, X_test, y_train, y_test = train_test_split(X, y, train_size=0.7, random_state=42)\n",
        "X_train.shape, X_test.shape"
      ],
      "metadata": {
        "id": "7ftEoy2_5oiu"
      },
      "execution_count": null,
      "outputs": []
    },
    {
      "cell_type": "markdown",
      "source": [
        "4. Create a Model and Train it"
      ],
      "metadata": {
        "id": "OJNTZT9n5oGR"
      }
    },
    {
      "cell_type": "code",
      "source": [
        "%%time\n",
        "classifier = RandomForestClassifier(random_state=42, n_jobs=-1, max_depth=5,\n",
        "                                       n_estimators=100, oob_score=True)\n",
        "\n",
        "classifier.fit(X_train, y_train)"
      ],
      "metadata": {
        "id": "bKZnA-yG6Fmh"
      },
      "execution_count": null,
      "outputs": []
    },
    {
      "cell_type": "markdown",
      "source": [
        "5. Visualizing the graph"
      ],
      "metadata": {
        "id": "T7N0-6F06NjO"
      }
    },
    {
      "cell_type": "code",
      "source": [
        "plt.figure(figsize=(80,40))\n",
        "plot_tree(classifier.estimators_[5], \n",
        "          feature_names = X.columns,\n",
        "          class_names=['Disease', \"No Disease\"],\n",
        "          filled=True);"
      ],
      "metadata": {
        "id": "f7BrXBT_6Mpn"
      },
      "execution_count": null,
      "outputs": []
    },
    {
      "cell_type": "markdown",
      "source": [
        "6. Evaluate the Model"
      ],
      "metadata": {
        "id": "BapXCfaC6XUd"
      }
    },
    {
      "cell_type": "code",
      "source": [
        "print(\"\\nPrediction Probability : \\n\",classifier.predict_proba(X_test))\n",
        "\n",
        "print(\"\\nPrediction : \",classifier.predict(X_test))\n",
        "\n",
        "print(\"\\nScore : \",classifier.score(X_test, y_test))"
      ],
      "metadata": {
        "id": "NUXk4hMT6ZhG"
      },
      "execution_count": null,
      "outputs": []
    },
    {
      "cell_type": "markdown",
      "source": [
        "7. Print Confusion Matrix"
      ],
      "metadata": {
        "id": "TYZ_onnB6pQ6"
      }
    },
    {
      "cell_type": "code",
      "source": [
        "print(\"\\nConfusion Matrix : \\n\",confusion_matrix(y_test, classifier.predict(X_test)))"
      ],
      "metadata": {
        "id": "OXKn4Rdk6g0w"
      },
      "execution_count": null,
      "outputs": []
    },
    {
      "cell_type": "markdown",
      "source": [
        "8. Plot Confusion Matrix"
      ],
      "metadata": {
        "id": "DyHwy-GH60HJ"
      }
    },
    {
      "cell_type": "code",
      "source": [
        "cm = confusion_matrix(y_test, classifier.predict(X_test))\n",
        "\n",
        "df_cm = pd.DataFrame(cm, range(2), range(2))\n",
        "plt.figure(figsize=(10,7))\n",
        "sns.set(font_scale=1.4) # for label size\n",
        "sns.heatmap(df_cm, annot=True, annot_kws={\"size\": 16}) # font size\n",
        "\n",
        "plt.show()"
      ],
      "metadata": {
        "id": "O0GDInnb62v_"
      },
      "execution_count": null,
      "outputs": []
    },
    {
      "cell_type": "markdown",
      "source": [
        "9. Print Classification Report"
      ],
      "metadata": {
        "id": "7doo4-R268q8"
      }
    },
    {
      "cell_type": "code",
      "source": [
        "print(classification_report(y_test, classifier.predict(X_test)))"
      ],
      "metadata": {
        "id": "lSg_pXmu7BeX"
      },
      "execution_count": null,
      "outputs": []
    },
    {
      "cell_type": "markdown",
      "source": [
        "10. Importance of Feature"
      ],
      "metadata": {
        "id": "lj66DgLC7Fg3"
      }
    },
    {
      "cell_type": "code",
      "source": [
        "feature_imp = pd.Series(classifier.feature_importances_,index=X.columns).sort_values(ascending=False)\n",
        "feature_imp"
      ],
      "metadata": {
        "id": "MKwPJtRe7JYw"
      },
      "execution_count": null,
      "outputs": []
    },
    {
      "cell_type": "markdown",
      "source": [
        "Plotting feature importance graph"
      ],
      "metadata": {
        "id": "Cab_sjlb7Nni"
      }
    },
    {
      "cell_type": "code",
      "source": [
        "sns.barplot(x=feature_imp, y=feature_imp.index)\n",
        "\n",
        "plt.xlabel('Feature Importance Score')\n",
        "plt.ylabel('Features')\n",
        "plt.title(\"Visualizing Important Features\")\n",
        "plt.legend()\n",
        "plt.show()"
      ],
      "metadata": {
        "id": "ayrz9CR-7O1Q"
      },
      "execution_count": null,
      "outputs": []
    }
  ]
}