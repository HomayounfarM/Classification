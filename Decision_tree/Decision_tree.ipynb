{
  "nbformat": 4,
  "nbformat_minor": 0,
  "metadata": {
    "colab": {
      "private_outputs": true,
      "provenance": [],
      "authorship_tag": "ABX9TyMZOPAnWdidRg1rkO4SCazg",
      "include_colab_link": true
    },
    "kernelspec": {
      "name": "python3",
      "display_name": "Python 3"
    },
    "language_info": {
      "name": "python"
    }
  },
  "cells": [
    {
      "cell_type": "markdown",
      "metadata": {
        "id": "view-in-github",
        "colab_type": "text"
      },
      "source": [
        "<a href=\"https://colab.research.google.com/github/HomayounfarM/Classification/blob/main/Decision_tree/Decision_tree.ipynb\" target=\"_parent\"><img src=\"https://colab.research.google.com/assets/colab-badge.svg\" alt=\"Open In Colab\"/></a>"
      ]
    },
    {
      "cell_type": "markdown",
      "source": [
        "# Decision tree\n"
      ],
      "metadata": {
        "id": "jAaNsT5qcWNa"
      }
    },
    {
      "cell_type": "markdown",
      "source": [
        "Decision tree is a **non-parametric**, **supervised**, **classification** algorithm that assigns data to discrete groups.\n",
        "\n",
        "**Non-parametric**: Decision tree does NOT make assumptions about data’s distribution or structure.\n",
        "\n",
        "**Supervised**: The class of training set MUST be provided by the users.\n",
        "\n",
        "**Classification**: Decision tree classifies data into discrete classes, instead of predicting a real number."
      ],
      "metadata": {
        "id": "27Eav5nEgqgx"
      }
    },
    {
      "cell_type": "code",
      "source": [
        "# Import libraries\n",
        "import pandas as pd\n",
        "from sklearn.preprocessing import LabelEncoder          \n",
        "from sklearn.model_selection import train_test_split  \n",
        "from sklearn.tree import DecisionTreeClassifier\n",
        "from sklearn import tree\n",
        "import matplotlib.pyplot as plt"
      ],
      "metadata": {
        "id": "3QvJhavgSXul"
      },
      "execution_count": null,
      "outputs": []
    },
    {
      "cell_type": "code",
      "source": [
        "# Importing data\n",
        "url = 'https://raw.githubusercontent.com/datasciencedojo/datasets/master/titanic.csv'\n",
        "data = pd.read_csv(url)\n",
        "data.info()"
      ],
      "metadata": {
        "id": "jwPDiGTCSnrd"
      },
      "execution_count": null,
      "outputs": []
    },
    {
      "cell_type": "markdown",
      "source": [
        "**Note:** axis=1 means we’re dropping a column, inplace=True means we want to make modification on the original dataset."
      ],
      "metadata": {
        "id": "7SSDj156gdTX"
      }
    },
    {
      "cell_type": "code",
      "source": [
        "# Manage null data\n",
        "print(data.isnull().sum())\n",
        "# drop embarked\n",
        "data.drop('Cabin', axis=1, inplace = True)\n",
        "data.isnull().sum()"
      ],
      "metadata": {
        "id": "OMWXtlVVe_Eh"
      },
      "execution_count": null,
      "outputs": []
    }
  ]
}